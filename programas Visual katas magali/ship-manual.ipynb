{
 "cells": [
  {
   "cell_type": "markdown",
   "metadata": {},
   "source": [
    "# Manual de la Nave"
   ]
  },
  {
   "cell_type": "code",
   "execution_count": 53,
   "metadata": {},
   "outputs": [
    {
     "data": {
      "application/vnd.jupyter.widget-view+json": {
       "model_id": "0ee569cab4044960b151835c86409288",
       "version_major": 2,
       "version_minor": 0
      },
      "text/plain": [
       "ToggleButton(value=False, button_style='success', description='Iniciar Launch', icon='rocket', tooltip='Engage…"
      ]
     },
     "metadata": {},
     "output_type": "display_data"
    },
    {
     "data": {
      "application/vnd.jupyter.widget-view+json": {
       "model_id": "8365e6c6432449d2b8cd14f6f054d009",
       "version_major": 2,
       "version_minor": 0
      },
      "text/plain": [
       "Output()"
      ]
     },
     "metadata": {},
     "output_type": "display_data"
    }
   ],
   "source": [
    "import ipywidgets as widgets\n",
    "\n",
    "ignition = widgets.ToggleButton(\n",
    "    value=False,\n",
    "    description='Iniciar Launch',\n",
    "    button_style='success',\n",
    "    tooltip='Engage your Launch',\n",
    "    icon='rocket'\n",
    ")\n",
    "\n",
    "output = widgets.Output()\n",
    "display(ignition,output)\n",
    "\n",
    "def on_value_change(change):\n",
    "    with output:\n",
    "        if change['new'] == True:\n",
    "            print(\"Nave Iniciada!\")\n",
    "        else:   \n",
    "            print(\"Nave Detenida\")\n",
    "\n",
    "ignition.observe(on_value_change, names='value')"
   ]
  },
  {
   "cell_type": "code",
   "execution_count": 54,
   "metadata": {},
   "outputs": [
    {
     "ename": "IndentationError",
     "evalue": "unexpected indent (3829444986.py, line 2)",
     "output_type": "error",
     "traceback": [
      "\u001b[1;36m  Input \u001b[1;32mIn [54]\u001b[1;36m\u001b[0m\n\u001b[1;33m    get_ipython().run_line_magic('pip', 'install numpy')\u001b[0m\n\u001b[1;37m    ^\u001b[0m\n\u001b[1;31mIndentationError\u001b[0m\u001b[1;31m:\u001b[0m unexpected indent\n"
     ]
    }
   ],
   "source": [
    " %pip install matplotlib\n",
    "    %pip install numpy"
   ]
  },
  {
   "cell_type": "markdown",
   "metadata": {},
   "source": [
    "## Niveles de Oxígeno\n",
    "\n",
    "Muestra diez minutos de niveles de oxígeno en tu nave.\n"
   ]
  },
  {
   "cell_type": "code",
   "execution_count": 57,
   "metadata": {},
   "outputs": [
    {
     "ename": "IndentationError",
     "evalue": "unexpected indent (470181388.py, line 2)",
     "output_type": "error",
     "traceback": [
      "\u001b[1;36m  Input \u001b[1;32mIn [57]\u001b[1;36m\u001b[0m\n\u001b[1;33m    import matplotlib.pyplot as plt\u001b[0m\n\u001b[1;37m    ^\u001b[0m\n\u001b[1;31mIndentationError\u001b[0m\u001b[1;31m:\u001b[0m unexpected indent\n"
     ]
    }
   ],
   "source": [
    "  import numpy as np\n",
    "    import matplotlib.pyplot as plt\n",
    "    data = np.random.default_rng(12345)\n",
    "    oxy_nums = data.integers(low=0, high=10, size=10)\n",
    "\n",
    "    plt.bar(range(len(oxy_nums)), oxy_nums)\n",
    "    plt.show()"
   ]
  },
  {
   "cell_type": "markdown",
   "metadata": {},
   "source": [
    "## Velocidad de la nave\n",
    "\n",
    "Muestra los segundos necesarios para pasar de 0 a 11200 metros por segundo, dada la aceleración de la nave en metros por segundo."
   ]
  },
  {
   "cell_type": "code",
   "execution_count": 59,
   "metadata": {},
   "outputs": [
    {
     "name": "stdout",
     "output_type": "stream",
     "text": [
      "Tiempo para alcanzar la velocidad deseada =  1571.4285714285713\n"
     ]
    }
   ],
   "source": [
    "endVelocity = 11000\n",
    "startVelocity = 0\n",
    "acceleration = 7\n",
    "\n",
    "time = (endVelocity - startVelocity) / acceleration\n",
    "print(\"Tiempo para alcanzar la velocidad deseada = \", time)"
   ]
  }
 ],
 "metadata": {
  "interpreter": {
   "hash": "fcdc201c1753843177018ac475f1dfd5cd82725afcf1d3fc62dbd1248928d215"
  },
  "kernelspec": {
   "display_name": "Python 3.10.2 64-bit",
   "language": "python",
   "name": "python3"
  },
  "language_info": {
   "codemirror_mode": {
    "name": "ipython",
    "version": 3
   },
   "file_extension": ".py",
   "mimetype": "text/x-python",
   "name": "python",
   "nbconvert_exporter": "python",
   "pygments_lexer": "ipython3",
   "version": "3.10.2"
  },
  "orig_nbformat": 4
 },
 "nbformat": 4,
 "nbformat_minor": 2
}
